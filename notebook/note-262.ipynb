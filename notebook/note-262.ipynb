{
 "cells": [
  {
   "cell_type": "markdown",
   "metadata": {},
   "source": [
    "## 262. Trips and Users"
   ]
  },
  {
   "cell_type": "markdown",
   "metadata": {},
   "source": [
    "```\n",
    "The cancellation rate is computed by dividing the number of canceled (by client or driver) requests with unbanned users by the total number of requests with unbanned users on that day.\n",
    "\n",
    "Write a SQL query to find the cancellation rate of requests with unbanned users (both client and driver must not be banned) each day between \"2013-10-01\" and \"2013-10-03\". Round Cancellation Rate to two decimal points.\n",
    "\n",
    "Return the result table in any order.\n",
    "```"
   ]
  },
  {
   "cell_type": "code",
   "execution_count": 12,
   "metadata": {},
   "outputs": [],
   "source": [
    "import os\n",
    "import sys\n",
    "\n",
    "import pandas as pd\n",
    "import pandasql as ps\n",
    "\n",
    "_path = os.path.abspath(os.path.join('..'))\n",
    "sys.path.append(_path)\n",
    "from util.parser import parse_table"
   ]
  },
  {
   "cell_type": "code",
   "execution_count": 8,
   "metadata": {},
   "outputs": [],
   "source": [
    "t = '''\n",
    "+----+-----------+-----------+---------+---------------------+------------+\n",
    "| id | client_id | driver_id | city_id | status              | request_at |\n",
    "+----+-----------+-----------+---------+---------------------+------------+\n",
    "| 1  | 1         | 10        | 1       | completed           | 2013-10-01 |\n",
    "| 2  | 2         | 11        | 1       | cancelled_by_driver | 2013-10-01 |\n",
    "| 3  | 3         | 12        | 6       | completed           | 2013-10-01 |\n",
    "| 4  | 4         | 13        | 6       | cancelled_by_client | 2013-10-01 |\n",
    "| 5  | 1         | 10        | 1       | completed           | 2013-10-02 |\n",
    "| 6  | 2         | 11        | 6       | completed           | 2013-10-02 |\n",
    "| 7  | 3         | 12        | 6       | completed           | 2013-10-02 |\n",
    "| 8  | 2         | 12        | 12      | completed           | 2013-10-03 |\n",
    "| 9  | 3         | 10        | 12      | completed           | 2013-10-03 |\n",
    "| 10 | 4         | 13        | 12      | cancelled_by_driver | 2013-10-03 |\n",
    "+----+-----------+-----------+---------+---------------------+------------+\n",
    "'''\n",
    "\n",
    "u = '''\n",
    "+----------+--------+--------+\n",
    "| users_id | banned | role   |\n",
    "+----------+--------+--------+\n",
    "| 1        | No     | client |\n",
    "| 2        | Yes    | client |\n",
    "| 3        | No     | client |\n",
    "| 4        | No     | client |\n",
    "| 10       | No     | driver |\n",
    "| 12       | No     | driver |\n",
    "| 11       | No     | driver |\n",
    "| 13       | No     | driver |\n",
    "+----------+--------+--------+\n",
    "'''"
   ]
  },
  {
   "cell_type": "code",
   "execution_count": 9,
   "metadata": {},
   "outputs": [],
   "source": [
    "Trips = parse_table(t)\n",
    "Users = parse_table(u)"
   ]
  },
  {
   "cell_type": "code",
   "execution_count": 10,
   "metadata": {},
   "outputs": [
    {
     "data": {
      "text/html": [
       "<div>\n",
       "<style scoped>\n",
       "    .dataframe tbody tr th:only-of-type {\n",
       "        vertical-align: middle;\n",
       "    }\n",
       "\n",
       "    .dataframe tbody tr th {\n",
       "        vertical-align: top;\n",
       "    }\n",
       "\n",
       "    .dataframe thead th {\n",
       "        text-align: right;\n",
       "    }\n",
       "</style>\n",
       "<table border=\"1\" class=\"dataframe\">\n",
       "  <thead>\n",
       "    <tr style=\"text-align: right;\">\n",
       "      <th></th>\n",
       "      <th>users_id</th>\n",
       "      <th>banned</th>\n",
       "      <th>role</th>\n",
       "    </tr>\n",
       "  </thead>\n",
       "  <tbody>\n",
       "    <tr>\n",
       "      <th>0</th>\n",
       "      <td>1</td>\n",
       "      <td>No</td>\n",
       "      <td>client</td>\n",
       "    </tr>\n",
       "    <tr>\n",
       "      <th>1</th>\n",
       "      <td>2</td>\n",
       "      <td>Yes</td>\n",
       "      <td>client</td>\n",
       "    </tr>\n",
       "    <tr>\n",
       "      <th>2</th>\n",
       "      <td>3</td>\n",
       "      <td>No</td>\n",
       "      <td>client</td>\n",
       "    </tr>\n",
       "    <tr>\n",
       "      <th>3</th>\n",
       "      <td>4</td>\n",
       "      <td>No</td>\n",
       "      <td>client</td>\n",
       "    </tr>\n",
       "    <tr>\n",
       "      <th>4</th>\n",
       "      <td>10</td>\n",
       "      <td>No</td>\n",
       "      <td>driver</td>\n",
       "    </tr>\n",
       "    <tr>\n",
       "      <th>5</th>\n",
       "      <td>11</td>\n",
       "      <td>No</td>\n",
       "      <td>driver</td>\n",
       "    </tr>\n",
       "    <tr>\n",
       "      <th>6</th>\n",
       "      <td>12</td>\n",
       "      <td>No</td>\n",
       "      <td>driver</td>\n",
       "    </tr>\n",
       "    <tr>\n",
       "      <th>7</th>\n",
       "      <td>13</td>\n",
       "      <td>No</td>\n",
       "      <td>driver</td>\n",
       "    </tr>\n",
       "  </tbody>\n",
       "</table>\n",
       "</div>"
      ],
      "text/plain": [
       "  users_id banned    role\n",
       "0        1     No  client\n",
       "1        2    Yes  client\n",
       "2        3     No  client\n",
       "3        4     No  client\n",
       "4       10     No  driver\n",
       "5       11     No  driver\n",
       "6       12     No  driver\n",
       "7       13     No  driver"
      ]
     },
     "execution_count": 10,
     "metadata": {},
     "output_type": "execute_result"
    }
   ],
   "source": [
    "Users"
   ]
  },
  {
   "cell_type": "code",
   "execution_count": null,
   "metadata": {},
   "outputs": [],
   "source": []
  }
 ],
 "metadata": {
  "interpreter": {
   "hash": "af831c9dfaac7d2b9c851851b8288ab378f5ecdf7bbe3e88899d013279154573"
  },
  "kernelspec": {
   "display_name": "Python 3.9.5 64-bit ('nine': pyenv)",
   "language": "python",
   "name": "python3"
  },
  "language_info": {
   "codemirror_mode": {
    "name": "ipython",
    "version": 3
   },
   "file_extension": ".py",
   "mimetype": "text/x-python",
   "name": "python",
   "nbconvert_exporter": "python",
   "pygments_lexer": "ipython3",
   "version": "3.9.5"
  },
  "orig_nbformat": 4
 },
 "nbformat": 4,
 "nbformat_minor": 2
}
